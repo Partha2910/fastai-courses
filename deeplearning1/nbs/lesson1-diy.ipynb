{
 "cells": [
  {
   "cell_type": "code",
   "execution_count": 1,
   "metadata": {
    "collapsed": false
   },
   "outputs": [],
   "source": [
    "%matplotlib inline"
   ]
  },
  {
   "cell_type": "code",
   "execution_count": 13,
   "metadata": {
    "collapsed": true
   },
   "outputs": [],
   "source": [
    "path = \"/home/ubuntu/nbs/data/dogscats.3/\"\n",
    "model = \"lesson1-diy-weights-2.h5\"\n",
    "predictions = \"lesson1-diy-pred.npz\"\n",
    "\n"
   ]
  },
  {
   "cell_type": "code",
   "execution_count": 3,
   "metadata": {
    "collapsed": false
   },
   "outputs": [
    {
     "name": "stderr",
     "output_type": "stream",
     "text": [
      "Using gpu device 0: Tesla K80 (CNMeM is disabled, cuDNN 5103)\n",
      "/home/ubuntu/anaconda2/lib/python2.7/site-packages/theano/sandbox/cuda/__init__.py:600: UserWarning: Your cuDNN version is more recent than the one Theano officially supports. If you see any problems, try updating Theano or downgrading cuDNN to version 5.\n",
      "  warnings.warn(warn)\n",
      "Using Theano backend.\n"
     ]
    }
   ],
   "source": [
    "from __future__ import division,print_function\n",
    "\n",
    "import os, json\n",
    "from glob import glob\n",
    "import numpy as np\n",
    "np.set_printoptions(precision=4, linewidth=100)\n",
    "from matplotlib import pyplot as plt\n",
    "import utils; reload(utils)\n",
    "from utils import plots\n",
    "import vgg16; reload(vgg16)\n",
    "from vgg16 import Vgg16\n",
    "import re"
   ]
  },
  {
   "cell_type": "code",
   "execution_count": 8,
   "metadata": {
    "collapsed": false
   },
   "outputs": [
    {
     "name": "stdout",
     "output_type": "stream",
     "text": [
      "Found 23000 images belonging to 2 classes.\n",
      "Found 2000 images belonging to 2 classes.\n",
      "Epoch 1/5\n",
      "23000/23000 [==============================] - 598s - loss: 0.3590 - acc: 0.9690 - val_loss: 0.3300 - val_acc: 0.9725\n",
      "Epoch 2/5\n",
      "23000/23000 [==============================] - 598s - loss: 0.3440 - acc: 0.9747 - val_loss: 0.2746 - val_acc: 0.9795\n",
      "Epoch 3/5\n",
      "23000/23000 [==============================] - 598s - loss: 0.3290 - acc: 0.9768 - val_loss: 0.2505 - val_acc: 0.9815\n",
      "Epoch 4/5\n",
      "23000/23000 [==============================] - 598s - loss: 0.3496 - acc: 0.9761 - val_loss: 0.2941 - val_acc: 0.9790\n",
      "Epoch 5/5\n",
      "23000/23000 [==============================] - 600s - loss: 0.3176 - acc: 0.9782 - val_loss: 0.3446 - val_acc: 0.9765\n"
     ]
    }
   ],
   "source": [
    "if os.path.isfile(model):\n",
    "     batch_size=4\n",
    "     vgg = Vgg16()\n",
    "     vgg.model.load_weights(model)\n",
    "     vgg.classes = [\"cat\", \"dog\"]   \n",
    "else:\n",
    "     batch_size=64\n",
    "     vgg = Vgg16()    \n",
    "     batches = vgg.get_batches(path+'train', batch_size=batch_size)\n",
    "     val_batches = vgg.get_batches(path+'valid', batch_size=batch_size*2)\n",
    "     vgg.finetune(batches)\n",
    "     vgg.model.optimizer.lr = 0.01\n",
    "     vgg.fit(batches, val_batches, nb_epoch=5)\n",
    "     vgg.model.save_weights(model)\n"
   ]
  },
  {
   "cell_type": "code",
   "execution_count": 19,
   "metadata": {
    "collapsed": true
   },
   "outputs": [],
   "source": [
    "try:\n",
    "    np.load(predictions)\n",
    "except:\n",
    "    pred_batches,pred_gen = vgg.test(path+'test', batch_size=batch_size) \n",
    "    ids = map(lambda fn: int(re.sub(r\"\\D\",\"\", fn)),pred_batches.filenames)\n",
    "    np.savez(predictions, pred_gen, ids)"
   ]
  },
  {
   "cell_type": "code",
   "execution_count": 33,
   "metadata": {
    "collapsed": false
   },
   "outputs": [],
   "source": [
    "dogs = np.clip(pred_gen[:,1], 0.015, 0.985)\n",
    "#preds = [ abs(pred_gen[i, idxs[i]] - int(not bool(idxs[i]))) for i in range(len(idxs))]"
   ]
  },
  {
   "cell_type": "code",
   "execution_count": 34,
   "metadata": {
    "collapsed": false
   },
   "outputs": [],
   "source": [
    "submit = np.stack([ids,dogs],axis=1)"
   ]
  },
  {
   "cell_type": "code",
   "execution_count": 35,
   "metadata": {
    "collapsed": false
   },
   "outputs": [],
   "source": [
    "np.savetxt(path + 'submission.csv', submit, fmt='%d,%.5f', header='id,label', comments='')\n",
    "np.savetxt('submission.csv', submit, fmt='%d,%.5f', header='id,label', comments='')"
   ]
  },
  {
   "cell_type": "code",
   "execution_count": 36,
   "metadata": {
    "collapsed": false
   },
   "outputs": [
    {
     "data": {
      "text/html": [
       "<a href='submission.csv' target='_blank'>submission.csv</a><br>"
      ],
      "text/plain": [
       "/home/ubuntu/fastai-courses/deeplearning1/nbs/submission.csv"
      ]
     },
     "execution_count": 36,
     "metadata": {},
     "output_type": "execute_result"
    }
   ],
   "source": [
    "from IPython.display import FileLink\n",
    "FileLink('submission.csv')"
   ]
  },
  {
   "cell_type": "code",
   "execution_count": null,
   "metadata": {
    "collapsed": true
   },
   "outputs": [],
   "source": []
  }
 ],
 "metadata": {
  "anaconda-cloud": {},
  "kernelspec": {
   "display_name": "Python [conda root]",
   "language": "python",
   "name": "conda-root-py"
  },
  "language_info": {
   "codemirror_mode": {
    "name": "ipython",
    "version": 2
   },
   "file_extension": ".py",
   "mimetype": "text/x-python",
   "name": "python",
   "nbconvert_exporter": "python",
   "pygments_lexer": "ipython2",
   "version": "2.7.12"
  }
 },
 "nbformat": 4,
 "nbformat_minor": 1
}
